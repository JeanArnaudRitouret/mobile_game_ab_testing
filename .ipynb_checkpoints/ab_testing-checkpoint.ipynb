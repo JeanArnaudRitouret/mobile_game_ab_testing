{
 "cells": [
  {
   "cell_type": "code",
   "execution_count": 185,
   "id": "28368058",
   "metadata": {},
   "outputs": [],
   "source": [
    "import pandas as pd \n",
    "import numpy as np\n",
    "import matplotlib.pyplot as plt\n",
    "import seaborn as sns\n",
    "from scipy.stats import norm, tstd"
   ]
  },
  {
   "cell_type": "code",
   "execution_count": 30,
   "id": "2c5abede",
   "metadata": {},
   "outputs": [
    {
     "data": {
      "text/html": [
       "<div>\n",
       "<style scoped>\n",
       "    .dataframe tbody tr th:only-of-type {\n",
       "        vertical-align: middle;\n",
       "    }\n",
       "\n",
       "    .dataframe tbody tr th {\n",
       "        vertical-align: top;\n",
       "    }\n",
       "\n",
       "    .dataframe thead th {\n",
       "        text-align: right;\n",
       "    }\n",
       "</style>\n",
       "<table border=\"1\" class=\"dataframe\">\n",
       "  <thead>\n",
       "    <tr style=\"text-align: right;\">\n",
       "      <th></th>\n",
       "      <th>userid</th>\n",
       "      <th>version</th>\n",
       "      <th>sum_gamerounds</th>\n",
       "      <th>retention_1</th>\n",
       "      <th>retention_7</th>\n",
       "    </tr>\n",
       "  </thead>\n",
       "  <tbody>\n",
       "    <tr>\n",
       "      <th>0</th>\n",
       "      <td>116</td>\n",
       "      <td>gate_30</td>\n",
       "      <td>3</td>\n",
       "      <td>False</td>\n",
       "      <td>False</td>\n",
       "    </tr>\n",
       "    <tr>\n",
       "      <th>1</th>\n",
       "      <td>337</td>\n",
       "      <td>gate_30</td>\n",
       "      <td>38</td>\n",
       "      <td>True</td>\n",
       "      <td>False</td>\n",
       "    </tr>\n",
       "    <tr>\n",
       "      <th>2</th>\n",
       "      <td>377</td>\n",
       "      <td>gate_40</td>\n",
       "      <td>165</td>\n",
       "      <td>True</td>\n",
       "      <td>False</td>\n",
       "    </tr>\n",
       "    <tr>\n",
       "      <th>3</th>\n",
       "      <td>483</td>\n",
       "      <td>gate_40</td>\n",
       "      <td>1</td>\n",
       "      <td>False</td>\n",
       "      <td>False</td>\n",
       "    </tr>\n",
       "    <tr>\n",
       "      <th>4</th>\n",
       "      <td>488</td>\n",
       "      <td>gate_40</td>\n",
       "      <td>179</td>\n",
       "      <td>True</td>\n",
       "      <td>True</td>\n",
       "    </tr>\n",
       "  </tbody>\n",
       "</table>\n",
       "</div>"
      ],
      "text/plain": [
       "   userid  version  sum_gamerounds  retention_1  retention_7\n",
       "0     116  gate_30               3        False        False\n",
       "1     337  gate_30              38         True        False\n",
       "2     377  gate_40             165         True        False\n",
       "3     483  gate_40               1        False        False\n",
       "4     488  gate_40             179         True         True"
      ]
     },
     "execution_count": 30,
     "metadata": {},
     "output_type": "execute_result"
    }
   ],
   "source": [
    "df = pd.read_csv('cookie_cats.csv')\n",
    "df.head()"
   ]
  },
  {
   "cell_type": "code",
   "execution_count": 31,
   "id": "b1b4b19c",
   "metadata": {},
   "outputs": [
    {
     "name": "stdout",
     "output_type": "stream",
     "text": [
      "<class 'pandas.core.frame.DataFrame'>\n",
      "RangeIndex: 90189 entries, 0 to 90188\n",
      "Data columns (total 5 columns):\n",
      " #   Column          Non-Null Count  Dtype \n",
      "---  ------          --------------  ----- \n",
      " 0   userid          90189 non-null  int64 \n",
      " 1   version         90189 non-null  object\n",
      " 2   sum_gamerounds  90189 non-null  int64 \n",
      " 3   retention_1     90189 non-null  bool  \n",
      " 4   retention_7     90189 non-null  bool  \n",
      "dtypes: bool(2), int64(2), object(1)\n",
      "memory usage: 2.2+ MB\n"
     ]
    }
   ],
   "source": [
    "df.info()"
   ]
  },
  {
   "cell_type": "code",
   "execution_count": 62,
   "id": "7601de22",
   "metadata": {},
   "outputs": [
    {
     "data": {
      "image/png": "[encoded data removed]",
      "text/plain": [
       "<Figure size 432x288 with 1 Axes>"
      ]
     },
     "metadata": {
      "needs_background": "light"
     },
     "output_type": "display_data"
    }
   ],
   "source": [
    "# two versions have been tested with a gate at level 30 (control group) and one at level 0 (experiment group)\n",
    "sns.barplot(x = df.version.value_counts().index, y=df.version.value_counts())\n",
    "plt.title('Number of Users in each Group')\n",
    "plt.show()"
   ]
  },
  {
   "cell_type": "code",
   "execution_count": 66,
   "id": "741b0390",
   "metadata": {},
   "outputs": [
    {
     "data": {
      "image/png": "[encoded data removed]",
      "text/plain": [
       "<Figure size 432x288 with 1 Axes>"
      ]
     },
     "metadata": {
      "needs_background": "light"
     },
     "output_type": "display_data"
    }
   ],
   "source": [
    "# sum_gamerounds is the number of game rounds played by players during the first 14 days\n",
    "sns.histplot(df.sum_gamerounds[:500],\n",
    "             kde=True)\n",
    "plt.title('Distribution of Game Rounds played by Users \\n(sample of 500 first Users)')\n",
    "plt.show()"
   ]
  },
  {
   "cell_type": "code",
   "execution_count": 83,
   "id": "e951e74a",
   "metadata": {
    "scrolled": true
   },
   "outputs": [
    {
     "data": {
      "image/png": "[encoded data removed]",
      "text/plain": [
       "<Figure size 432x288 with 1 Axes>"
      ]
     },
     "metadata": {
      "needs_background": "light"
     },
     "output_type": "display_data"
    }
   ],
   "source": [
    "sns.barplot(x = df.retention_1.value_counts().index, y=df.retention_1.value_counts())\n",
    "plt.title(f'Retention Rate after 1 day : {100*df.retention_1.mean():.1f}%')\n",
    "plt.show()"
   ]
  },
  {
   "cell_type": "code",
   "execution_count": 127,
   "id": "5dc8cea6",
   "metadata": {},
   "outputs": [
    {
     "name": "stdout",
     "output_type": "stream",
     "text": [
      "Is there a difference between the mean of the control group and the experiment group ?\n",
      "version\n",
      "gate_30    0.448188\n",
      "gate_40    0.442283\n",
      "Name: retention_1, dtype: float64\n"
     ]
    }
   ],
   "source": [
    "# What is the average difference in retention after one day between the two groups ? \n",
    "means = df.groupby('version')['retention_1'].mean()\n",
    "print('Is there a difference between the mean of the control group and the experiment group ?')\n",
    "print(means)"
   ]
  },
  {
   "cell_type": "markdown",
   "id": "0f2a8a77",
   "metadata": {},
   "source": [
    "# Experiment Design"
   ]
  },
  {
   "cell_type": "markdown",
   "id": "237c04a7",
   "metadata": {},
   "source": [
    "## Create two groups : control groups (gate_30) and experimental group (gate_40)"
   ]
  },
  {
   "cell_type": "code",
   "execution_count": 128,
   "id": "6fd1e67e",
   "metadata": {},
   "outputs": [],
   "source": [
    "# In order to make inferences about the population statistics with our only one sample, we use a method called bootstrapping"
   ]
  },
  {
   "cell_type": "code",
   "execution_count": 138,
   "id": "6ef5d535",
   "metadata": {
    "scrolled": true
   },
   "outputs": [
    {
     "data": {
      "text/plain": [
       "[]"
      ]
     },
     "execution_count": 138,
     "metadata": {},
     "output_type": "execute_result"
    },
    {
     "data": {
      "image/png": "[encoded data removed]",
      "text/plain": [
       "<Figure size 576x288 with 1 Axes>"
      ]
     },
     "metadata": {
      "needs_background": "light"
     },
     "output_type": "display_data"
    }
   ],
   "source": [
    "boots=[]\n",
    "for i in range(1000):\n",
    "    # this creates a sample of the size of the original sample but with replacement, so the mean will change for each sample\n",
    "    boots.append(df.sample(frac=1, replace=True).groupby('version')['retention_1'].mean())\n",
    "\n",
    "# We transform into a dataframe for further manipulation\n",
    "df_boots = pd.DataFrame(boots)\n",
    "\n",
    "# We plot the distribution of each version\n",
    "fig = plt.figure(figsize=(8,4))\n",
    "sns.histplot(df_boots, kde=True)\n",
    "plt.plot()"
   ]
  },
  {
   "cell_type": "code",
   "execution_count": 163,
   "id": "7c6d750a",
   "metadata": {},
   "outputs": [],
   "source": [
    "# There seems to be a difference, so let's check the probability that this difference is not due to randomness"
   ]
  },
  {
   "cell_type": "markdown",
   "id": "1c4cfc11",
   "metadata": {},
   "source": [
    "## Collect statistics about user behaviors"
   ]
  },
  {
   "cell_type": "code",
   "execution_count": 228,
   "id": "3981dcb6",
   "metadata": {},
   "outputs": [
    {
     "name": "stdout",
     "output_type": "stream",
     "text": [
      "Number of experiments : 1000\n",
      "Average retention rate of the control groups: 0.4424\n",
      "Standard deviation of the control groups: 0.0023\n"
     ]
    }
   ],
   "source": [
    "# Number of experiments\n",
    "N_control = df_boots.shape[0]\n",
    "print(f'Number of experiments : {N_control}')\n",
    "\n",
    "# Average retention rate of control group\n",
    "mean_control = df_boots.gate_40.mean()\n",
    "print(f'Average retention rate of the control groups: {mean_control:.4f}')\n",
    "\n",
    "# Standard deviation of control group\n",
    "std_dev_control = tstd(df_boots.gate_40)\n",
    "print(f'Standard deviation of the control groups: {std_dev_control:.4f}')"
   ]
  },
  {
   "cell_type": "code",
   "execution_count": 229,
   "id": "fac4deea",
   "metadata": {},
   "outputs": [
    {
     "name": "stdout",
     "output_type": "stream",
     "text": [
      "Average retention rate of the experimental groups: 0.4482\n"
     ]
    }
   ],
   "source": [
    "# Average retention rate of the experimental group\n",
    "mean_experimental = df_boots.gate_30.mean()\n",
    "print(f'Average retention rate of the experimental groups: {mean_experimental:.4f}')"
   ]
  },
  {
   "cell_type": "markdown",
   "id": "ca107f9a",
   "metadata": {},
   "source": [
    "# Test our hypothesis"
   ]
  },
  {
   "cell_type": "markdown",
   "id": "4d785786",
   "metadata": {},
   "source": [
    "## Null Hypothesis : the experimental feature doesn't change user behavior, which is the same than the control group"
   ]
  },
  {
   "cell_type": "code",
   "execution_count": 230,
   "id": "add8eae2",
   "metadata": {
    "scrolled": true
   },
   "outputs": [],
   "source": [
    "# Let's compute the distribution of X, the average retention rate of users\n",
    "X = norm(mean_control, \n",
    "         std_dev_control)"
   ]
  },
  {
   "cell_type": "markdown",
   "id": "b5ddda12",
   "metadata": {},
   "source": [
    "## Alternative Hypothesis : the experimental feature increases the retention rate"
   ]
  },
  {
   "cell_type": "markdown",
   "id": "5944e480",
   "metadata": {},
   "source": [
    "# We choose a significance level of 5%"
   ]
  },
  {
   "cell_type": "code",
   "execution_count": 247,
   "id": "931d1483",
   "metadata": {},
   "outputs": [],
   "source": [
    "alpha = 0.05"
   ]
  },
  {
   "cell_type": "markdown",
   "id": "c5b25661",
   "metadata": {},
   "source": [
    "# We calculate the p-value"
   ]
  },
  {
   "cell_type": "code",
   "execution_count": 245,
   "id": "040d4ca6",
   "metadata": {},
   "outputs": [],
   "source": [
    "## What is the probability that X_exp is above or equal mean_exp ...\n",
    "## ...given that the Null Hypothesis is true (=> distribution is the same as for control group) ?"
   ]
  },
  {
   "cell_type": "code",
   "execution_count": 233,
   "id": "9d1092ef",
   "metadata": {},
   "outputs": [
    {
     "name": "stdout",
     "output_type": "stream",
     "text": [
      "0.005841533000761845\n"
     ]
    }
   ],
   "source": [
    "p_value = (1-X.cdf(mean_experimental))\n",
    "print(p_value)"
   ]
  },
  {
   "cell_type": "code",
   "execution_count": 246,
   "id": "de5f0ca2",
   "metadata": {},
   "outputs": [
    {
     "data": {
      "text/plain": [
       "[]"
      ]
     },
     "execution_count": 246,
     "metadata": {},
     "output_type": "execute_result"
    },
    {
     "data": {
      "image/png": "[encoded data removed]",
      "text/plain": [
       "<Figure size 432x288 with 1 Axes>"
      ]
     },
     "metadata": {
      "needs_background": "light"
     },
     "output_type": "display_data"
    }
   ],
   "source": [
    "test_list = np.linspace(0.4350,0.4490,1000)\n",
    "cdf_list = [X.cdf(i) for i in test_list]\n",
    "sns.lineplot(x=test_list, y=cdf_list)\n",
    "plt.plot()"
   ]
  },
  {
   "cell_type": "code",
   "execution_count": 248,
   "id": "65ff1a4d",
   "metadata": {},
   "outputs": [
    {
     "data": {
      "text/plain": [
       "True"
      ]
     },
     "execution_count": 248,
     "metadata": {},
     "output_type": "execute_result"
    }
   ],
   "source": [
    "# Since p_value is below the statistical significance 0.5%, we consider that we can reject the null hypothesis \n",
    "p_value < alpha"
   ]
  },
  {
   "cell_type": "code",
   "execution_count": 237,
   "id": "090b7ca4",
   "metadata": {},
   "outputs": [],
   "source": [
    "# Passing the gate to the level 30 increases the retention rate"
   ]
  },
  {
   "cell_type": "markdown",
   "id": "536ee2de",
   "metadata": {},
   "source": [
    "# What about retention after 7 days ? "
   ]
  },
  {
   "cell_type": "code",
   "execution_count": 253,
   "id": "6012b7af",
   "metadata": {},
   "outputs": [],
   "source": [
    "def test_retention_seven_days(df):\n",
    "    boots=[]\n",
    "    for i in range(1000):\n",
    "        # this creates a sample of the size of the original sample but with replacement, so the mean will change for each sample\n",
    "        boots.append(df.sample(frac=1, replace=True).groupby('version')['retention_7'].mean())\n",
    "\n",
    "    # We transform into a dataframe for further manipulation\n",
    "    df_boots = pd.DataFrame(boots)\n",
    "\n",
    "    # Number of experiments\n",
    "    N_control = df_boots.shape[0]\n",
    "\n",
    "    # Average retention rate of control group\n",
    "    mean_control = df_boots.gate_40.mean()\n",
    "\n",
    "    # Standard deviation of control group\n",
    "    std_dev_control = tstd(df_boots.gate_40)\n",
    "    \n",
    "    mean_experimental = df_boots.gate_30.mean()\n",
    "    \n",
    "    X = norm(mean_control, \n",
    "         std_dev_control)\n",
    "    \n",
    "    alpha = 0.05\n",
    "    \n",
    "    p_value = (1-X.cdf(mean_experimental))\n",
    "    \n",
    "    return p_value < alpha, p_value, df_boots"
   ]
  },
  {
   "cell_type": "code",
   "execution_count": 254,
   "id": "4163ac16",
   "metadata": {},
   "outputs": [],
   "source": [
    "is_reject_h0, p_value, df_boots = test_retention_seven_days(df)"
   ]
  },
  {
   "cell_type": "code",
   "execution_count": 256,
   "id": "a6658137",
   "metadata": {},
   "outputs": [
    {
     "data": {
      "text/plain": [
       "True"
      ]
     },
     "execution_count": 256,
     "metadata": {},
     "output_type": "execute_result"
    }
   ],
   "source": [
    "# Should we reject H0 ? \n",
    "is_reject_h0"
   ]
  },
  {
   "cell_type": "code",
   "execution_count": 257,
   "id": "bbd2c5c2",
   "metadata": {},
   "outputs": [
    {
     "data": {
      "text/plain": [
       "3.240232359869033e-06"
      ]
     },
     "execution_count": 257,
     "metadata": {},
     "output_type": "execute_result"
    }
   ],
   "source": [
    "# What is the p_value ? \n",
    "p_value"
   ]
  },
  {
   "cell_type": "code",
   "execution_count": 258,
   "id": "eaac7cab",
   "metadata": {},
   "outputs": [
    {
     "data": {
      "text/plain": [
       "[]"
      ]
     },
     "execution_count": 258,
     "metadata": {},
     "output_type": "execute_result"
    },
    {
     "data": {
      "image/png": "[encoded data removed]",
      "text/plain": [
       "<Figure size 576x288 with 1 Axes>"
      ]
     },
     "metadata": {
      "needs_background": "light"
     },
     "output_type": "display_data"
    }
   ],
   "source": [
    "# We plot the distribution of each version\n",
    "fig = plt.figure(figsize=(8,4))\n",
    "sns.histplot(df_boots, kde=True)\n",
    "plt.plot()"
   ]
  },
  {
   "cell_type": "code",
   "execution_count": null,
   "id": "95111f27",
   "metadata": {},
   "outputs": [],
   "source": []
  }
 ],
 "metadata": {
  "kernelspec": {
   "display_name": "Python 3 (ipykernel)",
   "language": "python",
   "name": "python3"
  },
  "language_info": {
   "codemirror_mode": {
    "name": "ipython",
    "version": 3
   },
   "file_extension": ".py",
   "mimetype": "text/x-python",
   "name": "python",
   "nbconvert_exporter": "python",
   "pygments_lexer": "ipython3",
   "version": "3.8.6"
  },
  "toc": {
   "base_numbering": 1,
   "nav_menu": {},
   "number_sections": true,
   "sideBar": true,
   "skip_h1_title": false,
   "title_cell": "Table of Contents",
   "title_sidebar": "Contents",
   "toc_cell": false,
   "toc_position": {},
   "toc_section_display": true,
   "toc_window_display": false
  }
 },
 "nbformat": 4,
 "nbformat_minor": 5
}
